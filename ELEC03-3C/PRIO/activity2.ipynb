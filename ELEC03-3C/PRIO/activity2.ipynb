{
 "cells": [
  {
   "cell_type": "markdown",
   "id": "5421dc8e-39de-4719-bf0b-969737bd2aeb",
   "metadata": {},
   "source": [
    "<h1>ACTIVITY2 - ACCIDENTS DATA ANALYTICS</h1>"
   ]
  },
  {
   "cell_type": "markdown",
   "id": "263ab20b-594e-4349-9830-c43c6b793f71",
   "metadata": {},
   "source": [
    "<H2>Analyst: Gerald Prio</H2>"
   ]
  },
  {
   "cell_type": "code",
   "execution_count": 1,
   "id": "308e0eaf-104e-40ce-8c78-00c627fcec72",
   "metadata": {},
   "outputs": [],
   "source": [
    "import numpy as np\n",
    "import pandas as pd\n",
    "import warnings\n",
    "warnings.filterwarnings('ignore')\n",
    "import matplotlib.pyplot as plt"
   ]
  },
  {
   "cell_type": "code",
   "execution_count": 2,
   "id": "b4edadb8-8ef5-4124-99f4-5e82d9f2c3b7",
   "metadata": {},
   "outputs": [],
   "source": [
    "accidents  = pd.read_csv('datasets\\\\accident_data.csv')"
   ]
  },
  {
   "cell_type": "code",
   "execution_count": 3,
   "id": "0f8b0889-6fd5-48a6-b66a-8581c3144f14",
   "metadata": {},
   "outputs": [
    {
     "data": {
      "text/html": [
       "<div>\n",
       "<style scoped>\n",
       "    .dataframe tbody tr th:only-of-type {\n",
       "        vertical-align: middle;\n",
       "    }\n",
       "\n",
       "    .dataframe tbody tr th {\n",
       "        vertical-align: top;\n",
       "    }\n",
       "\n",
       "    .dataframe thead th {\n",
       "        text-align: right;\n",
       "    }\n",
       "</style>\n",
       "<table border=\"1\" class=\"dataframe\">\n",
       "  <thead>\n",
       "    <tr style=\"text-align: right;\">\n",
       "      <th></th>\n",
       "      <th>Index</th>\n",
       "      <th>Accident_Severity</th>\n",
       "      <th>Accident Date</th>\n",
       "      <th>Latitude</th>\n",
       "      <th>Light_Conditions</th>\n",
       "      <th>District Area</th>\n",
       "      <th>Longitude</th>\n",
       "      <th>Number_of_Casualties</th>\n",
       "      <th>Number_of_Vehicles</th>\n",
       "      <th>Road_Surface_Conditions</th>\n",
       "      <th>Road_Type</th>\n",
       "      <th>Urban_or_Rural_Area</th>\n",
       "      <th>Weather_Conditions</th>\n",
       "      <th>Vehicle_Type</th>\n",
       "    </tr>\n",
       "  </thead>\n",
       "  <tbody>\n",
       "    <tr>\n",
       "      <th>0</th>\n",
       "      <td>200701BS64157</td>\n",
       "      <td>Serious</td>\n",
       "      <td>05/06/2019</td>\n",
       "      <td>51.506187</td>\n",
       "      <td>Darkness - lights lit</td>\n",
       "      <td>Kensington and Chelsea</td>\n",
       "      <td>-0.209082</td>\n",
       "      <td>1</td>\n",
       "      <td>2</td>\n",
       "      <td>Dry</td>\n",
       "      <td>Single carriageway</td>\n",
       "      <td>Urban</td>\n",
       "      <td>Fine no high winds</td>\n",
       "      <td>Car</td>\n",
       "    </tr>\n",
       "    <tr>\n",
       "      <th>1</th>\n",
       "      <td>200701BS65737</td>\n",
       "      <td>Serious</td>\n",
       "      <td>02/07/2019</td>\n",
       "      <td>51.495029</td>\n",
       "      <td>Daylight</td>\n",
       "      <td>Kensington and Chelsea</td>\n",
       "      <td>-0.173647</td>\n",
       "      <td>1</td>\n",
       "      <td>2</td>\n",
       "      <td>Wet or damp</td>\n",
       "      <td>Single carriageway</td>\n",
       "      <td>Urban</td>\n",
       "      <td>Raining no high winds</td>\n",
       "      <td>Car</td>\n",
       "    </tr>\n",
       "    <tr>\n",
       "      <th>2</th>\n",
       "      <td>200701BS66127</td>\n",
       "      <td>Serious</td>\n",
       "      <td>26/08/2019</td>\n",
       "      <td>51.517715</td>\n",
       "      <td>Darkness - lighting unknown</td>\n",
       "      <td>Kensington and Chelsea</td>\n",
       "      <td>-0.210215</td>\n",
       "      <td>1</td>\n",
       "      <td>3</td>\n",
       "      <td>Dry</td>\n",
       "      <td>NaN</td>\n",
       "      <td>Urban</td>\n",
       "      <td>NaN</td>\n",
       "      <td>Taxi/Private hire car</td>\n",
       "    </tr>\n",
       "    <tr>\n",
       "      <th>3</th>\n",
       "      <td>200701BS66128</td>\n",
       "      <td>Serious</td>\n",
       "      <td>16/08/2019</td>\n",
       "      <td>51.495478</td>\n",
       "      <td>Daylight</td>\n",
       "      <td>Kensington and Chelsea</td>\n",
       "      <td>-0.202731</td>\n",
       "      <td>1</td>\n",
       "      <td>4</td>\n",
       "      <td>Dry</td>\n",
       "      <td>Single carriageway</td>\n",
       "      <td>Urban</td>\n",
       "      <td>Fine no high winds</td>\n",
       "      <td>Bus or coach (17 or more pass seats)</td>\n",
       "    </tr>\n",
       "    <tr>\n",
       "      <th>4</th>\n",
       "      <td>200701BS66837</td>\n",
       "      <td>Slight</td>\n",
       "      <td>03/09/2019</td>\n",
       "      <td>51.488576</td>\n",
       "      <td>Darkness - lights lit</td>\n",
       "      <td>Kensington and Chelsea</td>\n",
       "      <td>-0.192487</td>\n",
       "      <td>1</td>\n",
       "      <td>2</td>\n",
       "      <td>Dry</td>\n",
       "      <td>NaN</td>\n",
       "      <td>Urban</td>\n",
       "      <td>NaN</td>\n",
       "      <td>Other vehicle</td>\n",
       "    </tr>\n",
       "    <tr>\n",
       "      <th>...</th>\n",
       "      <td>...</td>\n",
       "      <td>...</td>\n",
       "      <td>...</td>\n",
       "      <td>...</td>\n",
       "      <td>...</td>\n",
       "      <td>...</td>\n",
       "      <td>...</td>\n",
       "      <td>...</td>\n",
       "      <td>...</td>\n",
       "      <td>...</td>\n",
       "      <td>...</td>\n",
       "      <td>...</td>\n",
       "      <td>...</td>\n",
       "      <td>...</td>\n",
       "    </tr>\n",
       "    <tr>\n",
       "      <th>660674</th>\n",
       "      <td>201091NM01760</td>\n",
       "      <td>Slight</td>\n",
       "      <td>18/02/2022</td>\n",
       "      <td>57.374005</td>\n",
       "      <td>Daylight</td>\n",
       "      <td>Highland</td>\n",
       "      <td>-3.467828</td>\n",
       "      <td>2</td>\n",
       "      <td>1</td>\n",
       "      <td>Dry</td>\n",
       "      <td>Single carriageway</td>\n",
       "      <td>Rural</td>\n",
       "      <td>Fine no high winds</td>\n",
       "      <td>Car</td>\n",
       "    </tr>\n",
       "    <tr>\n",
       "      <th>660675</th>\n",
       "      <td>201091NM01881</td>\n",
       "      <td>Slight</td>\n",
       "      <td>21/02/2022</td>\n",
       "      <td>57.232273</td>\n",
       "      <td>Darkness - no lighting</td>\n",
       "      <td>Highland</td>\n",
       "      <td>-3.809281</td>\n",
       "      <td>1</td>\n",
       "      <td>1</td>\n",
       "      <td>Frost or ice</td>\n",
       "      <td>Single carriageway</td>\n",
       "      <td>Rural</td>\n",
       "      <td>Fine no high winds</td>\n",
       "      <td>Car</td>\n",
       "    </tr>\n",
       "    <tr>\n",
       "      <th>660676</th>\n",
       "      <td>201091NM01935</td>\n",
       "      <td>Slight</td>\n",
       "      <td>23/02/2022</td>\n",
       "      <td>57.585044</td>\n",
       "      <td>Daylight</td>\n",
       "      <td>Highland</td>\n",
       "      <td>-3.862727</td>\n",
       "      <td>1</td>\n",
       "      <td>3</td>\n",
       "      <td>Frost or ice</td>\n",
       "      <td>Single carriageway</td>\n",
       "      <td>Rural</td>\n",
       "      <td>Fine no high winds</td>\n",
       "      <td>Car</td>\n",
       "    </tr>\n",
       "    <tr>\n",
       "      <th>660677</th>\n",
       "      <td>201091NM01964</td>\n",
       "      <td>Serious</td>\n",
       "      <td>23/02/2022</td>\n",
       "      <td>57.214898</td>\n",
       "      <td>Darkness - no lighting</td>\n",
       "      <td>Highland</td>\n",
       "      <td>-3.823997</td>\n",
       "      <td>1</td>\n",
       "      <td>2</td>\n",
       "      <td>Wet or damp</td>\n",
       "      <td>Single carriageway</td>\n",
       "      <td>Rural</td>\n",
       "      <td>Fine no high winds</td>\n",
       "      <td>Motorcycle over 500cc</td>\n",
       "    </tr>\n",
       "    <tr>\n",
       "      <th>660678</th>\n",
       "      <td>201091NM02142</td>\n",
       "      <td>Serious</td>\n",
       "      <td>28/02/2022</td>\n",
       "      <td>57.575210</td>\n",
       "      <td>Daylight</td>\n",
       "      <td>Highland</td>\n",
       "      <td>-3.895673</td>\n",
       "      <td>1</td>\n",
       "      <td>1</td>\n",
       "      <td>Wet or damp</td>\n",
       "      <td>Dual carriageway</td>\n",
       "      <td>Rural</td>\n",
       "      <td>Snowing no high winds</td>\n",
       "      <td>Car</td>\n",
       "    </tr>\n",
       "  </tbody>\n",
       "</table>\n",
       "<p>660679 rows × 14 columns</p>\n",
       "</div>"
      ],
      "text/plain": [
       "                Index Accident_Severity Accident Date   Latitude  \\\n",
       "0       200701BS64157           Serious    05/06/2019  51.506187   \n",
       "1       200701BS65737           Serious    02/07/2019  51.495029   \n",
       "2       200701BS66127           Serious    26/08/2019  51.517715   \n",
       "3       200701BS66128           Serious    16/08/2019  51.495478   \n",
       "4       200701BS66837            Slight    03/09/2019  51.488576   \n",
       "...               ...               ...           ...        ...   \n",
       "660674  201091NM01760            Slight    18/02/2022  57.374005   \n",
       "660675  201091NM01881            Slight    21/02/2022  57.232273   \n",
       "660676  201091NM01935            Slight    23/02/2022  57.585044   \n",
       "660677  201091NM01964           Serious    23/02/2022  57.214898   \n",
       "660678  201091NM02142           Serious    28/02/2022  57.575210   \n",
       "\n",
       "                   Light_Conditions           District Area  Longitude  \\\n",
       "0             Darkness - lights lit  Kensington and Chelsea  -0.209082   \n",
       "1                          Daylight  Kensington and Chelsea  -0.173647   \n",
       "2       Darkness - lighting unknown  Kensington and Chelsea  -0.210215   \n",
       "3                          Daylight  Kensington and Chelsea  -0.202731   \n",
       "4             Darkness - lights lit  Kensington and Chelsea  -0.192487   \n",
       "...                             ...                     ...        ...   \n",
       "660674                     Daylight                Highland  -3.467828   \n",
       "660675       Darkness - no lighting                Highland  -3.809281   \n",
       "660676                     Daylight                Highland  -3.862727   \n",
       "660677       Darkness - no lighting                Highland  -3.823997   \n",
       "660678                     Daylight                Highland  -3.895673   \n",
       "\n",
       "        Number_of_Casualties  Number_of_Vehicles Road_Surface_Conditions  \\\n",
       "0                          1                   2                     Dry   \n",
       "1                          1                   2             Wet or damp   \n",
       "2                          1                   3                     Dry   \n",
       "3                          1                   4                     Dry   \n",
       "4                          1                   2                     Dry   \n",
       "...                      ...                 ...                     ...   \n",
       "660674                     2                   1                     Dry   \n",
       "660675                     1                   1            Frost or ice   \n",
       "660676                     1                   3            Frost or ice   \n",
       "660677                     1                   2             Wet or damp   \n",
       "660678                     1                   1             Wet or damp   \n",
       "\n",
       "                 Road_Type Urban_or_Rural_Area     Weather_Conditions  \\\n",
       "0       Single carriageway               Urban     Fine no high winds   \n",
       "1       Single carriageway               Urban  Raining no high winds   \n",
       "2                      NaN               Urban                    NaN   \n",
       "3       Single carriageway               Urban     Fine no high winds   \n",
       "4                      NaN               Urban                    NaN   \n",
       "...                    ...                 ...                    ...   \n",
       "660674  Single carriageway               Rural     Fine no high winds   \n",
       "660675  Single carriageway               Rural     Fine no high winds   \n",
       "660676  Single carriageway               Rural     Fine no high winds   \n",
       "660677  Single carriageway               Rural     Fine no high winds   \n",
       "660678    Dual carriageway               Rural  Snowing no high winds   \n",
       "\n",
       "                                Vehicle_Type  \n",
       "0                                        Car  \n",
       "1                                        Car  \n",
       "2                      Taxi/Private hire car  \n",
       "3       Bus or coach (17 or more pass seats)  \n",
       "4                              Other vehicle  \n",
       "...                                      ...  \n",
       "660674                                   Car  \n",
       "660675                                   Car  \n",
       "660676                                   Car  \n",
       "660677                 Motorcycle over 500cc  \n",
       "660678                                   Car  \n",
       "\n",
       "[660679 rows x 14 columns]"
      ]
     },
     "execution_count": 3,
     "metadata": {},
     "output_type": "execute_result"
    }
   ],
   "source": [
    "accidents"
   ]
  },
  {
   "cell_type": "markdown",
   "id": "f41354b8-eb84-4910-be19-cc744219a8fb",
   "metadata": {},
   "source": [
    "<h2>Descriptive Analytics</h2>"
   ]
  },
  {
   "cell_type": "code",
   "execution_count": 4,
   "id": "75cbfcb2-2584-474f-9fbb-47edefb5dd92",
   "metadata": {},
   "outputs": [
    {
     "data": {
      "text/html": [
       "<div>\n",
       "<style scoped>\n",
       "    .dataframe tbody tr th:only-of-type {\n",
       "        vertical-align: middle;\n",
       "    }\n",
       "\n",
       "    .dataframe tbody tr th {\n",
       "        vertical-align: top;\n",
       "    }\n",
       "\n",
       "    .dataframe thead th {\n",
       "        text-align: right;\n",
       "    }\n",
       "</style>\n",
       "<table border=\"1\" class=\"dataframe\">\n",
       "  <thead>\n",
       "    <tr style=\"text-align: right;\">\n",
       "      <th></th>\n",
       "      <th>Latitude</th>\n",
       "      <th>Longitude</th>\n",
       "      <th>Number_of_Casualties</th>\n",
       "      <th>Number_of_Vehicles</th>\n",
       "    </tr>\n",
       "  </thead>\n",
       "  <tbody>\n",
       "    <tr>\n",
       "      <th>count</th>\n",
       "      <td>660654.000000</td>\n",
       "      <td>660653.000000</td>\n",
       "      <td>660679.000000</td>\n",
       "      <td>660679.000000</td>\n",
       "    </tr>\n",
       "    <tr>\n",
       "      <th>mean</th>\n",
       "      <td>52.553866</td>\n",
       "      <td>-1.431210</td>\n",
       "      <td>1.357040</td>\n",
       "      <td>1.831255</td>\n",
       "    </tr>\n",
       "    <tr>\n",
       "      <th>std</th>\n",
       "      <td>1.406922</td>\n",
       "      <td>1.383330</td>\n",
       "      <td>0.824847</td>\n",
       "      <td>0.715269</td>\n",
       "    </tr>\n",
       "    <tr>\n",
       "      <th>min</th>\n",
       "      <td>49.914430</td>\n",
       "      <td>-7.516225</td>\n",
       "      <td>1.000000</td>\n",
       "      <td>1.000000</td>\n",
       "    </tr>\n",
       "    <tr>\n",
       "      <th>25%</th>\n",
       "      <td>51.490690</td>\n",
       "      <td>-2.332291</td>\n",
       "      <td>1.000000</td>\n",
       "      <td>1.000000</td>\n",
       "    </tr>\n",
       "    <tr>\n",
       "      <th>50%</th>\n",
       "      <td>52.315641</td>\n",
       "      <td>-1.411667</td>\n",
       "      <td>1.000000</td>\n",
       "      <td>2.000000</td>\n",
       "    </tr>\n",
       "    <tr>\n",
       "      <th>75%</th>\n",
       "      <td>53.453452</td>\n",
       "      <td>-0.232869</td>\n",
       "      <td>1.000000</td>\n",
       "      <td>2.000000</td>\n",
       "    </tr>\n",
       "    <tr>\n",
       "      <th>max</th>\n",
       "      <td>60.757544</td>\n",
       "      <td>1.762010</td>\n",
       "      <td>68.000000</td>\n",
       "      <td>32.000000</td>\n",
       "    </tr>\n",
       "  </tbody>\n",
       "</table>\n",
       "</div>"
      ],
      "text/plain": [
       "            Latitude      Longitude  Number_of_Casualties  Number_of_Vehicles\n",
       "count  660654.000000  660653.000000         660679.000000       660679.000000\n",
       "mean       52.553866      -1.431210              1.357040            1.831255\n",
       "std         1.406922       1.383330              0.824847            0.715269\n",
       "min        49.914430      -7.516225              1.000000            1.000000\n",
       "25%        51.490690      -2.332291              1.000000            1.000000\n",
       "50%        52.315641      -1.411667              1.000000            2.000000\n",
       "75%        53.453452      -0.232869              1.000000            2.000000\n",
       "max        60.757544       1.762010             68.000000           32.000000"
      ]
     },
     "execution_count": 4,
     "metadata": {},
     "output_type": "execute_result"
    }
   ],
   "source": [
    "accidents.describe()"
   ]
  },
  {
   "cell_type": "markdown",
   "id": "cb2ad4c4-edbb-40f1-b5c3-42c5de265823",
   "metadata": {},
   "source": [
    "<h2>Cleaning the Data Frame</h2>"
   ]
  },
  {
   "cell_type": "code",
   "execution_count": 5,
   "id": "18bdba38-37f1-4697-9772-f88d9e82f2f6",
   "metadata": {},
   "outputs": [
    {
     "data": {
      "text/plain": [
       "Index                      0\n",
       "Accident_Severity          0\n",
       "Accident Date              0\n",
       "Latitude                   0\n",
       "Light_Conditions           0\n",
       "District Area              0\n",
       "Longitude                  0\n",
       "Number_of_Casualties       0\n",
       "Number_of_Vehicles         0\n",
       "Road_Surface_Conditions    0\n",
       "Road_Type                  0\n",
       "Urban_or_Rural_Area        0\n",
       "Weather_Conditions         0\n",
       "Vehicle_Type               0\n",
       "dtype: int64"
      ]
     },
     "execution_count": 5,
     "metadata": {},
     "output_type": "execute_result"
    }
   ],
   "source": [
    "accidents['Latitude'] = accidents['Latitude'].fillna(accidents['Latitude'].mean())\n",
    "accidents['Longitude'] = accidents['Longitude'].fillna(accidents['Longitude'].mean())\n",
    "accidents['Road_Surface_Conditions'] = accidents['Road_Surface_Conditions'].fillna('unkown')\n",
    "accidents['Road_Type'] = accidents['Road_Type'].fillna('unkown')\n",
    "accidents['Urban_or_Rural_Area'] = accidents['Urban_or_Rural_Area'].fillna(accidents['Urban_or_Rural_Area'].mode()[0])\n",
    "accidents['Weather_Conditions'] = accidents['Weather_Conditions'].fillna('unkown')\n",
    "\n",
    "accidents.isnull().sum()"
   ]
  },
  {
   "cell_type": "markdown",
   "id": "bd6c98d2-19c0-4eba-96ee-55f9dfc92106",
   "metadata": {},
   "source": [
    "<h2>Data Types</h2>"
   ]
  },
  {
   "cell_type": "code",
   "execution_count": 6,
   "id": "19812dce-41ee-4c8d-bd1a-87e8ec154707",
   "metadata": {},
   "outputs": [
    {
     "data": {
      "text/plain": [
       "Index                       object\n",
       "Accident_Severity           object\n",
       "Accident Date               object\n",
       "Latitude                   float64\n",
       "Light_Conditions            object\n",
       "District Area               object\n",
       "Longitude                  float64\n",
       "Number_of_Casualties         int64\n",
       "Number_of_Vehicles           int64\n",
       "Road_Surface_Conditions     object\n",
       "Road_Type                   object\n",
       "Urban_or_Rural_Area         object\n",
       "Weather_Conditions          object\n",
       "Vehicle_Type                object\n",
       "dtype: object"
      ]
     },
     "execution_count": 6,
     "metadata": {},
     "output_type": "execute_result"
    }
   ],
   "source": [
    "accidents.dtypes"
   ]
  },
  {
   "cell_type": "markdown",
   "id": "527b5712-dda4-4e4b-929f-a1fc193f5bfd",
   "metadata": {},
   "source": [
    "<h2>Changing Data Types</h2>"
   ]
  },
  {
   "cell_type": "code",
   "execution_count": 7,
   "id": "bcabb9f3-1aca-48e1-ad02-04c288050784",
   "metadata": {},
   "outputs": [
    {
     "data": {
      "text/plain": [
       "Index                            category\n",
       "Accident_Severity                category\n",
       "Accident Date              datetime64[ns]\n",
       "Latitude                          float64\n",
       "Light_Conditions                 category\n",
       "District Area                    category\n",
       "Longitude                         float64\n",
       "Number_of_Casualties                int64\n",
       "Number_of_Vehicles                  int64\n",
       "Road_Surface_Conditions          category\n",
       "Road_Type                        category\n",
       "Urban_or_Rural_Area              category\n",
       "Weather_Conditions               category\n",
       "Vehicle_Type                     category\n",
       "dtype: object"
      ]
     },
     "execution_count": 7,
     "metadata": {},
     "output_type": "execute_result"
    }
   ],
   "source": [
    "accidents['Index'] = accidents['Index'].astype('category')\n",
    "accidents['Accident_Severity'] = accidents['Accident_Severity'].astype('category')\n",
    "accidents['Accident Date'] = pd.to_datetime(accidents['Accident Date'], dayfirst = True, errors = 'coerce')\n",
    "accidents['Light_Conditions'] = accidents['Light_Conditions'].astype('category')\n",
    "accidents['District Area'] = accidents['District Area'].astype('category')\n",
    "accidents['Road_Surface_Conditions'] = accidents['Road_Surface_Conditions'].astype('category')\n",
    "accidents['Road_Type'] = accidents['Road_Type'].astype('category')\n",
    "accidents['Urban_or_Rural_Area'] = accidents['Urban_or_Rural_Area'].astype('category')\n",
    "accidents['Weather_Conditions'] = accidents['Weather_Conditions'].astype('category')\n",
    "accidents['Vehicle_Type'] = accidents['Vehicle_Type'].astype('category')\n",
    "\n",
    "accidents.dtypes"
   ]
  },
  {
   "cell_type": "markdown",
   "id": "86b1da92-8364-4dad-9db8-d5b6c9eb5d48",
   "metadata": {},
   "source": [
    "<H2>Extracting Date Information Using Pandas Date Time</H2>"
   ]
  },
  {
   "cell_type": "code",
   "execution_count": 8,
   "id": "4dc60817-36d0-415e-8878-d5781f3c0989",
   "metadata": {},
   "outputs": [
    {
     "data": {
      "text/plain": [
       "Index                      0\n",
       "Accident_Severity          0\n",
       "Accident Date              0\n",
       "Latitude                   0\n",
       "Light_Conditions           0\n",
       "District Area              0\n",
       "Longitude                  0\n",
       "Number_of_Casualties       0\n",
       "Number_of_Vehicles         0\n",
       "Road_Surface_Conditions    0\n",
       "Road_Type                  0\n",
       "Urban_or_Rural_Area        0\n",
       "Weather_Conditions         0\n",
       "Vehicle_Type               0\n",
       "Year                       0\n",
       "Month                      0\n",
       "Month_Name                 0\n",
       "Date                       0\n",
       "Day                        0\n",
       "Week                       0\n",
       "dtype: int64"
      ]
     },
     "execution_count": 8,
     "metadata": {},
     "output_type": "execute_result"
    }
   ],
   "source": [
    "accidents['Year'] = accidents['Accident Date'].dt.year\n",
    "accidents['Month'] = accidents['Accident Date'].dt.month\n",
    "accidents['Month_Name'] = accidents['Accident Date'].dt.month_name()\n",
    "accidents['Date'] = accidents['Accident Date'].dt.day\n",
    "accidents['Day'] = accidents['Accident Date'].dt.day_name()\n",
    "accidents['Week'] = accidents['Accident Date'].dt.isocalendar().week\n",
    "\n",
    "accidents.isnull().sum()"
   ]
  },
  {
   "cell_type": "markdown",
   "id": "644b3cd0-2b87-471b-86df-dd99e5627f4c",
   "metadata": {},
   "source": [
    "<h1>Data Analysis</h1>"
   ]
  },
  {
   "cell_type": "markdown",
   "id": "fdb75ec4-add3-4856-9f5e-809eb0a640e1",
   "metadata": {},
   "source": [
    "<h2> 1. What are the most common vehicle types involved in accidents in 2019?</h2>"
   ]
  },
  {
   "cell_type": "code",
   "execution_count": 9,
   "id": "11dba66a-35ab-42fb-bec3-91129da77285",
   "metadata": {},
   "outputs": [
    {
     "data": {
      "text/plain": [
       "Vehicle_Type\n",
       "Car                                      130304\n",
       "Bus or coach (17 or more pass seats)      10483\n",
       "Van / Goods 3.5 tonnes mgw or under        9303\n",
       "Motorcycle over 500cc                      7686\n",
       "Goods 7.5 tonnes mgw and over              6247\n",
       "Motorcycle 125cc and under                 4313\n",
       "Taxi/Private hire car                      4230\n",
       "Motorcycle over 125cc and up to 500cc      2446\n",
       "Motorcycle 50cc and under                  2136\n",
       "Goods over 3.5t. and under 7.5t            2049\n",
       "Other vehicle                              1588\n",
       "Agricultural vehicle                        636\n",
       "Minibus (8 - 16 passenger seats)            625\n",
       "Pedal cycle                                  68\n",
       "Ridden horse                                  1\n",
       "Data missing or out of range                  0\n",
       "dtype: int64"
      ]
     },
     "execution_count": 9,
     "metadata": {},
     "output_type": "execute_result"
    }
   ],
   "source": [
    "veh_counts_2019 = (accidents[accidents['Year'] == 2019]\n",
    "                   .groupby('Vehicle_Type')\n",
    "                   .size()\n",
    "                   .sort_values(ascending=False))\n",
    "\n",
    "veh_counts_2019"
   ]
  },
  {
   "cell_type": "markdown",
   "id": "71efac06-d6a5-4adf-8ad2-deee9c69586f",
   "metadata": {},
   "source": [
    "<h2>INSIGHT 1:</h2> \n",
    "<p>Based on the data above, cars dominated the accident statistics in 2019 with 130,304 recorded cases, making up the overwhelming majority compared to any other vehicle type. This makes sense since cars are the most common vehicles on the road, meaning their higher exposure leads to more accident involvement.</p>\n",
    "<h2>INSIGHT 2:</h2>\n",
    "<P>Other vehicles like buses (10,483 cases) and vans (9,303 cases) appeared much less, yet they still matter because of the higher number of passengers or goods they carry. Even though they don’t crash as often as cars, their accidents can affect more people at once.</P>\n",
    "<H2>INSIGHT 3:</H2>\n",
    "<P>Motorcycles together made up a noticeable share with more than 16,500 accidents across all engine sizes, reminding that riders remain one of the most vulnerable groups on the road. While their numbers are smaller compared to cars, the risks they face are much greater due to less protection.</P>"
   ]
  },
  {
   "cell_type": "markdown",
   "id": "075a9488-723b-4247-a100-c8590aa010a8",
   "metadata": {},
   "source": [
    "<H2>2. What is the correlation between casualties and vehicles in urban areas?</H2>"
   ]
  },
  {
   "cell_type": "code",
   "execution_count": 10,
   "id": "85d02b7c-5015-4fa5-8f3c-72461108f6b7",
   "metadata": {},
   "outputs": [
    {
     "data": {
      "text/plain": [
       "np.float64(0.2176153598713952)"
      ]
     },
     "execution_count": 10,
     "metadata": {},
     "output_type": "execute_result"
    }
   ],
   "source": [
    "cas_veh_corr = accidents[accidents['Urban_or_Rural_Area'] == 'Urban']['Number_of_Casualties'].corr(\n",
    "    accidents[accidents['Urban_or_Rural_Area'] == 'Urban']['Number_of_Vehicles'])\n",
    "\n",
    "cas_veh_corr"
   ]
  },
  {
   "cell_type": "markdown",
   "id": "3ee26bc2-189e-4466-884f-505160eb7a85",
   "metadata": {},
   "source": [
    "<h2>INSIGHT 4:</h2>\n",
    "<P>The correlation between the number of vehicles and the number of casualties in urban areas is about 0.22, which indicates a weak to moderate positive relationship. This means that when more vehicles are involved in an accident, casualties also tend to increase, but the link is not very strong.</P>"
   ]
  },
  {
   "cell_type": "markdown",
   "id": "d9eb7fd2-b0b3-4294-8e41-a811f6dc9f33",
   "metadata": {},
   "source": [
    "<h2>3. Which district has the highest average number of casualties?</h2>"
   ]
  },
  {
   "cell_type": "code",
   "execution_count": 11,
   "id": "a5546c81-8dbe-4c28-a52a-23574a627822",
   "metadata": {},
   "outputs": [
    {
     "data": {
      "text/plain": [
       "District Area\n",
       "Blaeu Gwent    1.693694\n",
       "Name: Number_of_Casualties, dtype: float64"
      ]
     },
     "execution_count": 11,
     "metadata": {},
     "output_type": "execute_result"
    }
   ],
   "source": [
    "district_avg = accidents.groupby('District Area')['Number_of_Casualties'].mean().sort_values(ascending=False)\n",
    "district_avg.head(1)"
   ]
  },
  {
   "cell_type": "markdown",
   "id": "bbad2a96-816a-4bf9-9cc5-ec7e9577cd9f",
   "metadata": {},
   "source": [
    "<h2>INSIGHT 5 :</h2>\n",
    "<P>The results show that Blaeu Gwent recorded the highest average number of casualties per accident, with about 1.69 casualties per crash. This indicates that accidents in this district, while not necessarily the most frequent, tend to involve slightly more people being hurt compared to other areas.</P>"
   ]
  },
  {
   "cell_type": "markdown",
   "id": "3a759264-0902-46bd-ad29-d445644d7d0d",
   "metadata": {},
   "source": [
    "<H2>4. Which road type has the highest number of accidents?</H2>"
   ]
  },
  {
   "cell_type": "code",
   "execution_count": 13,
   "id": "cae3ceb9-2a30-4652-9680-5f2efaab5cf9",
   "metadata": {},
   "outputs": [
    {
     "data": {
      "text/plain": [
       "Road_Type\n",
       "Single carriageway    492143\n",
       "Name: count, dtype: int64"
      ]
     },
     "execution_count": 13,
     "metadata": {},
     "output_type": "execute_result"
    }
   ],
   "source": [
    "road_accidents = accidents['Road_Type'].value_counts()\n",
    "road_accidents.head(1)"
   ]
  },
  {
   "cell_type": "markdown",
   "id": "8664e8ab-be1b-4097-a797-62d98eb875f6",
   "metadata": {},
   "source": [
    "<h2>INSIGHT 6:</h2>\n",
    "<p>It shows that Single Carriageway recorded the highest number of accidents with 53,310 cases, making up about 74.18% of all accidents.</p>"
   ]
  },
  {
   "cell_type": "markdown",
   "id": "e918ad64-aa2e-4926-abbc-43ddf01f5599",
   "metadata": {},
   "source": [
    "<h2>5. Which year had the most reported accidents in the dataset?</h2>"
   ]
  },
  {
   "cell_type": "code",
   "execution_count": 14,
   "id": "dc4b4fc6-d23d-48e3-bc06-47adbc296f3e",
   "metadata": {},
   "outputs": [
    {
     "data": {
      "text/plain": [
       "Accident Date\n",
       "2019    182115\n",
       "2020    170591\n",
       "2021    163554\n",
       "2022    144419\n",
       "dtype: int64"
      ]
     },
     "execution_count": 14,
     "metadata": {},
     "output_type": "execute_result"
    }
   ],
   "source": [
    "year_counts = accidents.groupby(accidents['Accident Date'].dt.year).size().sort_values(ascending=False)\n",
    "year_counts"
   ]
  },
  {
   "cell_type": "markdown",
   "id": "a4e02016-0d8f-4ae6-b4d1-abc6de0f56a4",
   "metadata": {},
   "source": [
    "<h2>INSIGHT 7:</h2> \n",
    "<p>The dataset shows that 2019 recorded the highest number of reported accidents with 182,115 cases, making it the peak year for road incidents. This suggests that traffic activity and risks were at their greatest just before the following years.</p>\n",
    "<h2>INSIGHT 8:</h2>\n",
    "<P>In 2020, accidents dropped to 170,591 cases, which is about 11,524 fewer accidents than 2019. The downward trend continued in 2021 with 163,554 accidents, and then again in 2022 with 144,419 accidents, which is a total decrease of nearly 37,700 cases compared to 2019.</P>"
   ]
  },
  {
   "cell_type": "markdown",
   "id": "2070b225-a899-4a9e-b9f5-812df7c0e64f",
   "metadata": {},
   "source": [
    "<h2>6. Which weather condition had the most accidents?</h2>"
   ]
  },
  {
   "cell_type": "code",
   "execution_count": 15,
   "id": "785d07d1-09a1-480a-a4dd-473202efa055",
   "metadata": {},
   "outputs": [
    {
     "data": {
      "text/plain": [
       "Weather_Conditions\n",
       "Fine no high winds    520885\n",
       "dtype: int64"
      ]
     },
     "execution_count": 15,
     "metadata": {},
     "output_type": "execute_result"
    }
   ],
   "source": [
    "weather_counts = accidents.groupby('Weather_Conditions').size().sort_values(ascending=False)\n",
    "weather_counts.head(1)"
   ]
  },
  {
   "cell_type": "markdown",
   "id": "d3ddbb36-5993-4f24-bea6-347613162e97",
   "metadata": {},
   "source": [
    "<h2>INSIGHT 9:</h2>\n",
    "<P>The majority of accidents happened during fine weather with no high winds, accounting for 520,885 cases. This shows that most crashes don’t necessarily happen in bad weather conditions but rather in normal driving conditions</P>"
   ]
  },
  {
   "cell_type": "markdown",
   "id": "4f0ff1b8-c636-4d1f-886d-3cb53cf51ff9",
   "metadata": {},
   "source": [
    "<h2>7. How are accidents distributed across different road surface conditions and light conditions?</h2>"
   ]
  },
  {
   "cell_type": "code",
   "execution_count": 16,
   "id": "2466e3eb-f3b0-4629-b368-5e43aa0eaa5b",
   "metadata": {},
   "outputs": [
    {
     "data": {
      "text/html": [
       "<div>\n",
       "<style scoped>\n",
       "    .dataframe tbody tr th:only-of-type {\n",
       "        vertical-align: middle;\n",
       "    }\n",
       "\n",
       "    .dataframe tbody tr th {\n",
       "        vertical-align: top;\n",
       "    }\n",
       "\n",
       "    .dataframe thead th {\n",
       "        text-align: right;\n",
       "    }\n",
       "</style>\n",
       "<table border=\"1\" class=\"dataframe\">\n",
       "  <thead>\n",
       "    <tr style=\"text-align: right;\">\n",
       "      <th>Light_Conditions</th>\n",
       "      <th>Darkness - lighting unknown</th>\n",
       "      <th>Darkness - lights lit</th>\n",
       "      <th>Darkness - lights unlit</th>\n",
       "      <th>Darkness - no lighting</th>\n",
       "      <th>Daylight</th>\n",
       "    </tr>\n",
       "    <tr>\n",
       "      <th>Road_Surface_Conditions</th>\n",
       "      <th></th>\n",
       "      <th></th>\n",
       "      <th></th>\n",
       "      <th></th>\n",
       "      <th></th>\n",
       "    </tr>\n",
       "  </thead>\n",
       "  <tbody>\n",
       "    <tr>\n",
       "      <th>Dry</th>\n",
       "      <td>1226</td>\n",
       "      <td>17989</td>\n",
       "      <td>360</td>\n",
       "      <td>4049</td>\n",
       "      <td>89882</td>\n",
       "    </tr>\n",
       "    <tr>\n",
       "      <th>Flood over 3cm. deep</th>\n",
       "      <td>5</td>\n",
       "      <td>52</td>\n",
       "      <td>1</td>\n",
       "      <td>85</td>\n",
       "      <td>188</td>\n",
       "    </tr>\n",
       "    <tr>\n",
       "      <th>Frost or ice</th>\n",
       "      <td>49</td>\n",
       "      <td>853</td>\n",
       "      <td>24</td>\n",
       "      <td>760</td>\n",
       "      <td>2184</td>\n",
       "    </tr>\n",
       "    <tr>\n",
       "      <th>Snow</th>\n",
       "      <td>9</td>\n",
       "      <td>108</td>\n",
       "      <td>1</td>\n",
       "      <td>97</td>\n",
       "      <td>383</td>\n",
       "    </tr>\n",
       "    <tr>\n",
       "      <th>Wet or damp</th>\n",
       "      <td>492</td>\n",
       "      <td>14433</td>\n",
       "      <td>320</td>\n",
       "      <td>5065</td>\n",
       "      <td>31766</td>\n",
       "    </tr>\n",
       "    <tr>\n",
       "      <th>unkown</th>\n",
       "      <td>11</td>\n",
       "      <td>38</td>\n",
       "      <td>1</td>\n",
       "      <td>11</td>\n",
       "      <td>149</td>\n",
       "    </tr>\n",
       "  </tbody>\n",
       "</table>\n",
       "</div>"
      ],
      "text/plain": [
       "Light_Conditions         Darkness - lighting unknown  Darkness - lights lit  \\\n",
       "Road_Surface_Conditions                                                       \n",
       "Dry                                             1226                  17989   \n",
       "Flood over 3cm. deep                               5                     52   \n",
       "Frost or ice                                      49                    853   \n",
       "Snow                                               9                    108   \n",
       "Wet or damp                                      492                  14433   \n",
       "unkown                                            11                     38   \n",
       "\n",
       "Light_Conditions         Darkness - lights unlit  Darkness - no lighting  \\\n",
       "Road_Surface_Conditions                                                    \n",
       "Dry                                          360                    4049   \n",
       "Flood over 3cm. deep                           1                      85   \n",
       "Frost or ice                                  24                     760   \n",
       "Snow                                           1                      97   \n",
       "Wet or damp                                  320                    5065   \n",
       "unkown                                         1                      11   \n",
       "\n",
       "Light_Conditions         Daylight  \n",
       "Road_Surface_Conditions            \n",
       "Dry                         89882  \n",
       "Flood over 3cm. deep          188  \n",
       "Frost or ice                 2184  \n",
       "Snow                          383  \n",
       "Wet or damp                 31766  \n",
       "unkown                        149  "
      ]
     },
     "execution_count": 16,
     "metadata": {},
     "output_type": "execute_result"
    }
   ],
   "source": [
    "acc_2020 = accidents[accidents['Year'] == 2020]\n",
    "\n",
    "surface_light = (acc_2020.groupby(['Road_Surface_Conditions', 'Light_Conditions']).size().unstack())\n",
    "surface_light"
   ]
  },
  {
   "cell_type": "markdown",
   "id": "d6c2cfb3-e5ae-4aa6-b4b3-4c39fac3cf78",
   "metadata": {},
   "source": [
    "<h2>INSIGHT 10:</h2> \n",
    "<p>Based on the data above ,most accidents happened on dry roads during daylight, with a total of 89,882 cases. This shows that accidents are more likely in normal conditions rather than extreme ones.</p>\n",
    "<h2>INSIGHT 11:</h2>\n",
    "<P>Wet or damp roads also caused a significant number of accidents, especially during daylight with 31,766 cases and at light unlit darkness with 14,433 cases. This shows that slippery conditions remain a consistent risk even when visibility is good.</P>\n",
    "<h2>INSIGHT 12:</h2>\n",
    "<P>Rare but dangerous conditions like frost/ice and snow had fewer accidents. Frost/ice caused 2,184 accidents in daylight and 760 in unlit darkness, while snow caused 383 accidents in daylight and 97 with no lighting.</P>"
   ]
  },
  {
   "cell_type": "markdown",
   "id": "fb06292d-1b6e-4a74-a70d-512fd44e2e59",
   "metadata": {},
   "source": [
    "<H2>8. What is the correlation between vehicles and casualties in fatal accidents?</H2>"
   ]
  },
  {
   "cell_type": "code",
   "execution_count": null,
   "id": "344ef197-bfe6-4d2e-ab4a-0260c5989f4c",
   "metadata": {},
   "outputs": [],
   "source": [
    "accidents[accidents['Accident_Severity']=='Fatal']['Number_of_Casualties'].corr(\n",
    "    accidents[accidents['Accident_Severity']=='Fatal']['Number_of_Vehicles'])"
   ]
  },
  {
   "cell_type": "markdown",
   "id": "7118fb0f-8558-4b26-84ca-1a03a87a68f6",
   "metadata": {},
   "source": [
    "<h2>INSIGHT 13 :</h2>\n",
    "<P>The correlation between the number of vehicles and the number of casualties in fatal accidents is about 0.22. This shows a weak to moderate positive relationship, meaning that as more vehicles are involved in a fatal accident, the number of casualties tends to increase, but the connection is not very strong.</P>"
   ]
  },
  {
   "cell_type": "markdown",
   "id": "4de7552b-4f60-448f-8ac8-57d2885c0b21",
   "metadata": {},
   "source": [
    "<H2>9. What proportion of accidents happened in daylight vs. darkness in 2022? </H2>"
   ]
  },
  {
   "cell_type": "code",
   "execution_count": 24,
   "id": "22004eba-6576-44a0-8812-e16d161a609d",
   "metadata": {},
   "outputs": [
    {
     "data": {
      "text/plain": [
       "Light_Conditions\n",
       "Daylight                       74.621760\n",
       "Darkness - lights lit          19.072283\n",
       "Darkness - no lighting          5.056121\n",
       "Darkness - lighting unknown     0.911930\n",
       "Darkness - lights unlit         0.337906\n",
       "Name: proportion, dtype: float64"
      ]
     },
     "execution_count": 24,
     "metadata": {},
     "output_type": "execute_result"
    }
   ],
   "source": [
    "lig_2022 = accidents[accidents['Year'] == 2022]\n",
    "\n",
    "light_counts = lig_2022['Light_Conditions'].value_counts(normalize=True) * 100\n",
    "light_counts"
   ]
  },
  {
   "cell_type": "markdown",
   "id": "b43ac548-0b5e-4b71-a0d8-20c209620345",
   "metadata": {},
   "source": [
    "<H2>INSIGHT: 14</H2>\n",
    "<P>In 2022, the most accidents occurred in daylight (73.6%), while 19.0% happened at night with proper street lighting. Only 5.0% occurred in areas with no lighting, and less than 1% where lighting was unknown or unlit. This means that good visibility does not guarantee road safety, accidents are still more common during the day.</P>"
   ]
  },
  {
   "cell_type": "markdown",
   "id": "9879cdd0-6833-4c5b-8110-076db58123e4",
   "metadata": {},
   "source": [
    "<h2>10. What proportion of accidents happened under different weather conditions in 2019?</h2>"
   ]
  },
  {
   "cell_type": "code",
   "execution_count": 25,
   "id": "13739266-14ad-4095-a095-d61fcfb67712",
   "metadata": {},
   "outputs": [
    {
     "data": {
      "text/plain": [
       "Weather_Conditions\n",
       "Fine no high winds       79.002828\n",
       "Raining no high winds    12.538780\n",
       "unkown                    2.269994\n",
       "Other                     2.241990\n",
       "Raining + high winds      1.624798\n",
       "Fine + high winds         1.397469\n",
       "Fog or mist               0.470582\n",
       "Snowing no high winds     0.373390\n",
       "Snowing + high winds      0.080169\n",
       "Name: proportion, dtype: float64"
      ]
     },
     "execution_count": 25,
     "metadata": {},
     "output_type": "execute_result"
    }
   ],
   "source": [
    "accidents_2019 = accidents[accidents['Year'] == 2019]\n",
    "\n",
    "weather_counts = accidents_2019['Weather_Conditions'].value_counts(normalize=True) * 100\n",
    "weather_counts"
   ]
  },
  {
   "cell_type": "markdown",
   "id": "b389fc44-1342-4b74-a80a-b42be855c319",
   "metadata": {},
   "source": [
    "<H2>INSIGHT: 15</H2>\n",
    "<P>In 2019, the majority of accident happened in fine weather (79%), while 12.5% occurred during rain without high winds and 1.6% rain with high winds. Severe weather like fog (0.47%) and snow (0.45% combined) made up less than 1% of accidents.</P>"
   ]
  },
  {
   "cell_type": "markdown",
   "id": "86d9c7b5-3bf7-45a7-93be-0f842bff52af",
   "metadata": {},
   "source": [
    "<h2>11. How did weather conditions affect the number of accidents in urban vs. rural areas in 2020?</h2>"
   ]
  },
  {
   "cell_type": "code",
   "execution_count": 31,
   "id": "fb35e664-0541-4f1a-9d54-a2e357ff67a4",
   "metadata": {},
   "outputs": [
    {
     "data": {
      "text/html": [
       "<div>\n",
       "<style scoped>\n",
       "    .dataframe tbody tr th:only-of-type {\n",
       "        vertical-align: middle;\n",
       "    }\n",
       "\n",
       "    .dataframe tbody tr th {\n",
       "        vertical-align: top;\n",
       "    }\n",
       "\n",
       "    .dataframe thead th {\n",
       "        text-align: right;\n",
       "    }\n",
       "</style>\n",
       "<table border=\"1\" class=\"dataframe\">\n",
       "  <thead>\n",
       "    <tr style=\"text-align: right;\">\n",
       "      <th>Urban_or_Rural_Area</th>\n",
       "      <th>Rural</th>\n",
       "      <th>Unallocated</th>\n",
       "      <th>Urban</th>\n",
       "    </tr>\n",
       "    <tr>\n",
       "      <th>Weather_Conditions</th>\n",
       "      <th></th>\n",
       "      <th></th>\n",
       "      <th></th>\n",
       "    </tr>\n",
       "  </thead>\n",
       "  <tbody>\n",
       "    <tr>\n",
       "      <th>Fine + high winds</th>\n",
       "      <td>1370</td>\n",
       "      <td>0</td>\n",
       "      <td>1491</td>\n",
       "    </tr>\n",
       "    <tr>\n",
       "      <th>Fine no high winds</th>\n",
       "      <td>46352</td>\n",
       "      <td>3</td>\n",
       "      <td>86158</td>\n",
       "    </tr>\n",
       "    <tr>\n",
       "      <th>Fog or mist</th>\n",
       "      <td>672</td>\n",
       "      <td>0</td>\n",
       "      <td>309</td>\n",
       "    </tr>\n",
       "    <tr>\n",
       "      <th>Other</th>\n",
       "      <td>1794</td>\n",
       "      <td>0</td>\n",
       "      <td>2471</td>\n",
       "    </tr>\n",
       "    <tr>\n",
       "      <th>Raining + high winds</th>\n",
       "      <td>1521</td>\n",
       "      <td>0</td>\n",
       "      <td>1609</td>\n",
       "    </tr>\n",
       "    <tr>\n",
       "      <th>Raining no high winds</th>\n",
       "      <td>8645</td>\n",
       "      <td>3</td>\n",
       "      <td>13336</td>\n",
       "    </tr>\n",
       "    <tr>\n",
       "      <th>Snowing + high winds</th>\n",
       "      <td>148</td>\n",
       "      <td>0</td>\n",
       "      <td>53</td>\n",
       "    </tr>\n",
       "    <tr>\n",
       "      <th>Snowing no high winds</th>\n",
       "      <td>443</td>\n",
       "      <td>0</td>\n",
       "      <td>276</td>\n",
       "    </tr>\n",
       "    <tr>\n",
       "      <th>unkown</th>\n",
       "      <td>1046</td>\n",
       "      <td>0</td>\n",
       "      <td>2891</td>\n",
       "    </tr>\n",
       "  </tbody>\n",
       "</table>\n",
       "</div>"
      ],
      "text/plain": [
       "Urban_or_Rural_Area    Rural  Unallocated  Urban\n",
       "Weather_Conditions                              \n",
       "Fine + high winds       1370            0   1491\n",
       "Fine no high winds     46352            3  86158\n",
       "Fog or mist              672            0    309\n",
       "Other                   1794            0   2471\n",
       "Raining + high winds    1521            0   1609\n",
       "Raining no high winds   8645            3  13336\n",
       "Snowing + high winds     148            0     53\n",
       "Snowing no high winds    443            0    276\n",
       "unkown                  1046            0   2891"
      ]
     },
     "execution_count": 31,
     "metadata": {},
     "output_type": "execute_result"
    }
   ],
   "source": [
    "accidents_2020 = accidents[accidents['Year'] == 2020]\n",
    "\n",
    "weather_2022 = accidents_2020.groupby(['Urban_or_Rural_Area', 'Weather_Conditions']).size().unstack(level=0)\n",
    "weather_2022"
   ]
  },
  {
   "cell_type": "markdown",
   "id": "6902f237-d909-4604-8689-e8114c5079df",
   "metadata": {},
   "source": [
    "<h2>INSIGHT 16:</h2> \n",
    "<p>Based on the data above ,most accidents happened in good weather. Urban areas had 86,158 accidents, almost twice as many as rural areas with 46,352. This shows that accidents are not just caused by bad weather, but mostly by traffic, driver behavior, and congestion, especially in cities.</p>\n",
    "<h2>INSIGHT 17:</h2>\n",
    "<P>During rainy weather, urban still had more accidents (13,336) compared to rural (8,645). Wet roads increase the chance of crashes, and in cities, where traffic is heavier and stopping distance is shorter, rain becomes even more dangerous.</P>\n",
    "<h2>INSIGHT 18:</h2>\n",
    "<P>In foggy conditions, rural areas were more affected with 672 accidents, compared to only 309 in urban areas. This suggests that rural drivers face bigger risks during fog because of higher driving speeds and limited street lighting outside the city.</P>"
   ]
  },
  {
   "cell_type": "markdown",
   "id": "5e86be7d-9336-41e7-9adf-a52d008c931e",
   "metadata": {},
   "source": [
    "<h2>12. Which day of the week consistently recorded the highest number of accidents from 2019 to 2022? </h2>"
   ]
  },
  {
   "cell_type": "code",
   "execution_count": 38,
   "id": "ef884282-5a48-4d61-b9c9-706bf5602d76",
   "metadata": {},
   "outputs": [
    {
     "data": {
      "text/html": [
       "<div>\n",
       "<style scoped>\n",
       "    .dataframe tbody tr th:only-of-type {\n",
       "        vertical-align: middle;\n",
       "    }\n",
       "\n",
       "    .dataframe tbody tr th {\n",
       "        vertical-align: top;\n",
       "    }\n",
       "\n",
       "    .dataframe thead th {\n",
       "        text-align: right;\n",
       "    }\n",
       "</style>\n",
       "<table border=\"1\" class=\"dataframe\">\n",
       "  <thead>\n",
       "    <tr style=\"text-align: right;\">\n",
       "      <th>Day</th>\n",
       "      <th>Friday</th>\n",
       "      <th>Monday</th>\n",
       "      <th>Saturday</th>\n",
       "      <th>Sunday</th>\n",
       "      <th>Thursday</th>\n",
       "      <th>Tuesday</th>\n",
       "      <th>Wednesday</th>\n",
       "    </tr>\n",
       "    <tr>\n",
       "      <th>Year</th>\n",
       "      <th></th>\n",
       "      <th></th>\n",
       "      <th></th>\n",
       "      <th></th>\n",
       "      <th></th>\n",
       "      <th></th>\n",
       "      <th></th>\n",
       "    </tr>\n",
       "  </thead>\n",
       "  <tbody>\n",
       "    <tr>\n",
       "      <th>2019</th>\n",
       "      <td>27303</td>\n",
       "      <td>20386</td>\n",
       "      <td>29262</td>\n",
       "      <td>24686</td>\n",
       "      <td>27300</td>\n",
       "      <td>26251</td>\n",
       "      <td>26927</td>\n",
       "    </tr>\n",
       "    <tr>\n",
       "      <th>2020</th>\n",
       "      <td>24948</td>\n",
       "      <td>18750</td>\n",
       "      <td>27387</td>\n",
       "      <td>23050</td>\n",
       "      <td>25830</td>\n",
       "      <td>24381</td>\n",
       "      <td>26245</td>\n",
       "    </tr>\n",
       "    <tr>\n",
       "      <th>2021</th>\n",
       "      <td>24305</td>\n",
       "      <td>17861</td>\n",
       "      <td>26666</td>\n",
       "      <td>22160</td>\n",
       "      <td>24799</td>\n",
       "      <td>22972</td>\n",
       "      <td>24791</td>\n",
       "    </tr>\n",
       "    <tr>\n",
       "      <th>2022</th>\n",
       "      <td>21344</td>\n",
       "      <td>15683</td>\n",
       "      <td>23863</td>\n",
       "      <td>19406</td>\n",
       "      <td>21582</td>\n",
       "      <td>20946</td>\n",
       "      <td>21595</td>\n",
       "    </tr>\n",
       "  </tbody>\n",
       "</table>\n",
       "</div>"
      ],
      "text/plain": [
       "Day   Friday  Monday  Saturday  Sunday  Thursday  Tuesday  Wednesday\n",
       "Year                                                                \n",
       "2019   27303   20386     29262   24686     27300    26251      26927\n",
       "2020   24948   18750     27387   23050     25830    24381      26245\n",
       "2021   24305   17861     26666   22160     24799    22972      24791\n",
       "2022   21344   15683     23863   19406     21582    20946      21595"
      ]
     },
     "execution_count": 38,
     "metadata": {},
     "output_type": "execute_result"
    }
   ],
   "source": [
    "weekday_trends = accidents.groupby(['Year', 'Day']).size().unstack()\n",
    "weekday_trends"
   ]
  },
  {
   "cell_type": "markdown",
   "id": "1d844918-f3a7-4013-b60c-05a9e00bb427",
   "metadata": {},
   "source": [
    "<h2>INSIGHT 19:</h2> \n",
    "<p>Based on the data above, Saturdays consistently recorded the highest number of accidents (29,262 in 2019, 27,387 in 2020, 26,666 in 2021, and 23,863 in 2022) while, Mondays had the lowest accident counts every year (20,386 in 2019 down to 15,683 in 2022).</p>"
   ]
  },
  {
   "cell_type": "markdown",
   "id": "6a0bf816-6bc7-4bed-a5b8-f4f169386577",
   "metadata": {},
   "source": [
    "<h2>13. Which month recorded the highest number of accidents across years?</h2>"
   ]
  },
  {
   "cell_type": "code",
   "execution_count": 39,
   "id": "c6320795-db58-4c5a-9c84-27352a5f1096",
   "metadata": {},
   "outputs": [
    {
     "data": {
      "text/html": [
       "<div>\n",
       "<style scoped>\n",
       "    .dataframe tbody tr th:only-of-type {\n",
       "        vertical-align: middle;\n",
       "    }\n",
       "\n",
       "    .dataframe tbody tr th {\n",
       "        vertical-align: top;\n",
       "    }\n",
       "\n",
       "    .dataframe thead th {\n",
       "        text-align: right;\n",
       "    }\n",
       "</style>\n",
       "<table border=\"1\" class=\"dataframe\">\n",
       "  <thead>\n",
       "    <tr style=\"text-align: right;\">\n",
       "      <th>Month</th>\n",
       "      <th>1</th>\n",
       "      <th>2</th>\n",
       "      <th>3</th>\n",
       "      <th>4</th>\n",
       "      <th>5</th>\n",
       "      <th>6</th>\n",
       "      <th>7</th>\n",
       "      <th>8</th>\n",
       "      <th>9</th>\n",
       "      <th>10</th>\n",
       "      <th>11</th>\n",
       "      <th>12</th>\n",
       "    </tr>\n",
       "    <tr>\n",
       "      <th>Year</th>\n",
       "      <th></th>\n",
       "      <th></th>\n",
       "      <th></th>\n",
       "      <th></th>\n",
       "      <th></th>\n",
       "      <th></th>\n",
       "      <th></th>\n",
       "      <th></th>\n",
       "      <th></th>\n",
       "      <th></th>\n",
       "      <th></th>\n",
       "      <th></th>\n",
       "    </tr>\n",
       "  </thead>\n",
       "  <tbody>\n",
       "    <tr>\n",
       "      <th>2019</th>\n",
       "      <td>15355</td>\n",
       "      <td>13253</td>\n",
       "      <td>15049</td>\n",
       "      <td>14125</td>\n",
       "      <td>15833</td>\n",
       "      <td>15528</td>\n",
       "      <td>15862</td>\n",
       "      <td>15044</td>\n",
       "      <td>15271</td>\n",
       "      <td>15528</td>\n",
       "      <td>16559</td>\n",
       "      <td>14708</td>\n",
       "    </tr>\n",
       "    <tr>\n",
       "      <th>2020</th>\n",
       "      <td>14133</td>\n",
       "      <td>14353</td>\n",
       "      <td>13494</td>\n",
       "      <td>13394</td>\n",
       "      <td>14336</td>\n",
       "      <td>14205</td>\n",
       "      <td>14630</td>\n",
       "      <td>13366</td>\n",
       "      <td>14432</td>\n",
       "      <td>15684</td>\n",
       "      <td>14770</td>\n",
       "      <td>13794</td>\n",
       "    </tr>\n",
       "    <tr>\n",
       "      <th>2021</th>\n",
       "      <td>13417</td>\n",
       "      <td>10950</td>\n",
       "      <td>13202</td>\n",
       "      <td>12715</td>\n",
       "      <td>13811</td>\n",
       "      <td>13936</td>\n",
       "      <td>14300</td>\n",
       "      <td>13415</td>\n",
       "      <td>13792</td>\n",
       "      <td>14834</td>\n",
       "      <td>15473</td>\n",
       "      <td>13709</td>\n",
       "    </tr>\n",
       "    <tr>\n",
       "      <th>2022</th>\n",
       "      <td>9967</td>\n",
       "      <td>10935</td>\n",
       "      <td>12341</td>\n",
       "      <td>11510</td>\n",
       "      <td>12372</td>\n",
       "      <td>12812</td>\n",
       "      <td>12653</td>\n",
       "      <td>12088</td>\n",
       "      <td>12960</td>\n",
       "      <td>13534</td>\n",
       "      <td>13622</td>\n",
       "      <td>9625</td>\n",
       "    </tr>\n",
       "  </tbody>\n",
       "</table>\n",
       "</div>"
      ],
      "text/plain": [
       "Month     1      2      3      4      5      6      7      8      9      10  \\\n",
       "Year                                                                          \n",
       "2019   15355  13253  15049  14125  15833  15528  15862  15044  15271  15528   \n",
       "2020   14133  14353  13494  13394  14336  14205  14630  13366  14432  15684   \n",
       "2021   13417  10950  13202  12715  13811  13936  14300  13415  13792  14834   \n",
       "2022    9967  10935  12341  11510  12372  12812  12653  12088  12960  13534   \n",
       "\n",
       "Month     11     12  \n",
       "Year                 \n",
       "2019   16559  14708  \n",
       "2020   14770  13794  \n",
       "2021   15473  13709  \n",
       "2022   13622   9625  "
      ]
     },
     "execution_count": 39,
     "metadata": {},
     "output_type": "execute_result"
    }
   ],
   "source": [
    "monthly_accidents = accidents.groupby(['Year', 'Month']).size().unstack()\n",
    "monthly_accidents"
   ]
  },
  {
   "cell_type": "markdown",
   "id": "14c135e1-74f3-40e9-be39-e9efd2dba971",
   "metadata": {},
   "source": [
    "<h2>INSIGHT 20:</h2> \n",
    "<p>In 2019, November had the most accidents with 16,559 cases, and in 2021 it was also the top month with 15,473. This shows that late autumn can be more dangerous on the roads, probably because days are shorter and traffic gets heavier before the holidays.</p>\n",
    "<h2>INSIGHT 21:</h2>\n",
    "<P>In 2020, October recorded the most accidents (15,684), while in 2022, September was the peak with 12,960. This tells that it’s not always the same month every year changes in weather and travel patterns can shift when accidents are most common.</P>\n",
    "<h2>INSIGHT 22:</h2>\n",
    "<P>February usually had the fewest accidents, like only 10,950 in 2021. Since February is the shortest month and often has cold weather, fewer people are out driving, which may explain the lower numbers.</P>"
   ]
  },
  {
   "cell_type": "markdown",
   "id": "6ea1e0f7-8346-49d1-8fe9-2a0168d6f09b",
   "metadata": {},
   "source": [
    "<h2>14. Which road types were car accidents most common in 2019?</h2>"
   ]
  },
  {
   "cell_type": "code",
   "execution_count": 49,
   "id": "5e755ad5-7923-4397-877b-0e3e61e935ca",
   "metadata": {},
   "outputs": [
    {
     "data": {
      "text/plain": [
       "Road_Type\n",
       "Dual carriageway      20710\n",
       "One way street         2853\n",
       "Roundabout             8665\n",
       "Single carriageway    99677\n",
       "Slip road              1458\n",
       "unkown                 1171\n",
       "dtype: int64"
      ]
     },
     "execution_count": 49,
     "metadata": {},
     "output_type": "execute_result"
    }
   ],
   "source": [
    "accidents_2019 = accidents[accidents['Year'] == 2019]\n",
    "\n",
    "car_accidents = accidents_2019[accidents_2019[\"Vehicle_Type\"].str.contains(\"Car\", case=False, na=False)]\n",
    "car_road_types = car_accidents.groupby(\"Road_Type\").size()\n",
    "car_road_types\n"
   ]
  },
  {
   "cell_type": "markdown",
   "id": "aeea444d-9b28-43f9-9319-7385bf2509c4",
   "metadata": {},
   "source": [
    "<h2>INSIGHT 23:</h2> \n",
    "<p>Based on the data above, Single Carriageway roads had the most accidents with 99,677 cases, which is almost five times higher than the next highest road type. This shows that single carriageways are the riskiest for car drivers.</p>\n",
    "<h2>INSIGHT 24:</h2>\n",
    "<P>Dual Carriageways recorded 20,710 accidents, making them the second most common type. Even though these roads are designed to be safer with separated lanes, their higher speed limits may contribute to accidents.</P>\n",
    "<h2>INSIGHT 25:</h2>\n",
    "<P>Roundabouts had 8,665 accidents, which is less than single and dual carriageways but still a significant number, likely because of high vehicle interaction at intersections.</P>\n",
    "<h2>INSIGHT 26:</h2>\n",
    "<P>One Way Streets (2,853), Slip Roads (1,458), and Unknown road types (1,171) had the lowest accident numbers. While fewer accidents happen here, they still contribute to overall risks, especially in urban areas where these roads are common.</P>"
   ]
  },
  {
   "cell_type": "code",
   "execution_count": 51,
   "id": "c71c0dab-9132-43bd-979c-cd602cca2fd3",
   "metadata": {},
   "outputs": [
    {
     "data": {
      "image/png": "[encoded data removed]",
      "text/plain": [
       "<Figure size 1000x500 with 1 Axes>"
      ]
     },
     "metadata": {},
     "output_type": "display_data"
    }
   ],
   "source": [
    "import matplotlib.pyplot as plt\n",
    "monthly_data = accidents.groupby(['Year','Month'])['Index'].count()\n",
    "monthly_data = monthly_data.unstack(level=0)\n",
    "monthly_data.plot(\n",
    "    marker = 'o',\n",
    "    figsize = (10,5),\n",
    "    title = 'Monthly Road Accidents by Year 2019 - 2022'\n",
    ")\n",
    "\n",
    "plt.xticks(range(1,13), ['Jan','Feb','Mar','April','May','Jun','Jul','Aug','Sept','Oct','Noc','Dec'])\n",
    "plt.grid(alpha=1)\n",
    "plt.show()"
   ]
  },
  {
   "cell_type": "code",
   "execution_count": 52,
   "id": "8386646a-ce3a-4c4e-9788-5f751e6920e4",
   "metadata": {},
   "outputs": [
    {
     "name": "stdout",
     "output_type": "stream",
     "text": [
      "Total number of Accident in 2019 is 182115\n"
     ]
    },
    {
     "data": {
      "text/plain": [
       "Light_Conditions\n",
       "Daylight                       133042\n",
       "Darkness - lights lit           35769\n",
       "Darkness - no lighting          10842\n",
       "Darkness - lighting unknown      1768\n",
       "Darkness - lights unlit           694\n",
       "Name: count, dtype: int64"
      ]
     },
     "execution_count": 52,
     "metadata": {},
     "output_type": "execute_result"
    }
   ],
   "source": [
    "year_2019 = accidents[accidents['Year'] == 2019]\n",
    "print(f\"Total number of Accident in 2019 is {year_2019['Light_Conditions'].value_counts().sum()}\")\n",
    "year_2019['Light_Conditions'].value_counts()"
   ]
  },
  {
   "cell_type": "code",
   "execution_count": null,
   "id": "7bd04921-3007-40c5-ae8b-a45cf8a256d5",
   "metadata": {},
   "outputs": [],
   "source": []
  }
 ],
 "metadata": {
  "kernelspec": {
   "display_name": "Python 3 (ipykernel)",
   "language": "python",
   "name": "python3"
  },
  "language_info": {
   "codemirror_mode": {
    "name": "ipython",
    "version": 3
   },
   "file_extension": ".py",
   "mimetype": "text/x-python",
   "name": "python",
   "nbconvert_exporter": "python",
   "pygments_lexer": "ipython3",
   "version": "3.12.2"
  }
 },
 "nbformat": 4,
 "nbformat_minor": 5
}
